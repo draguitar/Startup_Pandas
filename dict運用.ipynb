{
  "nbformat": 4,
  "nbformat_minor": 0,
  "metadata": {
    "colab": {
      "name": "dict運用",
      "provenance": [],
      "collapsed_sections": []
    },
    "kernelspec": {
      "name": "python3",
      "display_name": "Python 3"
    }
  },
  "cells": [
    {
      "cell_type": "markdown",
      "metadata": {
        "id": "8cvLnHnJZpzW",
        "colab_type": "text"
      },
      "source": [
        "### Data:\n",
        "dict.txt:<br>\n",
        "apple\t蘋果<br>\n",
        "orange\t橘子<br>\n",
        "banana\t香蕉<br>\n",
        "\n",
        "corpus.txt:<br>\n",
        "I like apple .<br>\n",
        "Mary has an orange .<br>\n",
        "Jack is a banan .\n"
      ]
    },
    {
      "cell_type": "code",
      "metadata": {
        "id": "AfQlqhmcVXOZ",
        "colab_type": "code",
        "colab": {}
      },
      "source": [
        "data = {}\n",
        "# 把dict.txt內容組成dict類\n",
        "with open(\"./data/dict.txt\", 'r', encoding=\"utf-8\") as f2: \n",
        "    for m in f2.readlines():\n",
        "        m = m.strip('\\n')\n",
        "        key = m.strip().split('\\t')[0]\n",
        "        value = m.split('\\t')[1]\n",
        "        cell = {key: value}\n",
        "        data.update(cell)\n",
        "                    \n",
        "with open(\"./data/corpus.txt\", 'r', encoding=\"utf-8\") as f: \n",
        "    with open(\"./data/corpus_new.txt\", 'a+', encoding=\"utf-8\") as f3:\n",
        "        for line in f.readlines():\n",
        "            line = line.strip('\\n')\n",
        "            for k in data.keys():\n",
        "                if k in line :\n",
        "                    line = line.replace(k, data[k])\n",
        "            f3.write(line + '\\n')"
      ],
      "execution_count": 0,
      "outputs": []
    },
    {
      "cell_type": "code",
      "metadata": {
        "id": "3P4FbsxuaXk2",
        "colab_type": "code",
        "colab": {
          "base_uri": "https://localhost:8080/",
          "height": 68
        },
        "outputId": "76271d41-24cd-4c4a-9fb5-5dab275b5469"
      },
      "source": [
        "!cat ./data/corpus_new.txt"
      ],
      "execution_count": 9,
      "outputs": [
        {
          "output_type": "stream",
          "text": [
            "I like 蘋果 .\n",
            "Mary has an 橘子 .\n",
            "Jack is a banan .\n"
          ],
          "name": "stdout"
        }
      ]
    }
  ]
}